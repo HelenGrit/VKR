{
 "cells": [
  {
   "cell_type": "code",
   "execution_count": 55,
   "id": "54c68636-3adc-441a-90f8-999a945b1cb7",
   "metadata": {},
   "outputs": [],
   "source": [
    "# Импортируем необходимые библиотеки\n",
    "import pandas as pd\n",
    "import numpy as np\n",
    "\n",
    "from sklearn.model_selection import train_test_split\n",
    "from sklearn.compose import ColumnTransformer\n",
    "from sklearn.preprocessing import MinMaxScaler\n",
    "from sklearn.linear_model import LinearRegression\n",
    "\n",
    "import pickle"
   ]
  },
  {
   "cell_type": "code",
   "execution_count": 56,
   "id": "56cc2610-bf8f-4f3d-ade5-a50b6c1849f4",
   "metadata": {},
   "outputs": [],
   "source": [
    "# Импортируем данных\n",
    "df_nup = pd.read_excel(\"dataset/X_nup.xlsx\")\n",
    "df_bp = pd.read_excel(\"dataset/X_bp.xlsx\")"
   ]
  },
  {
   "cell_type": "code",
   "execution_count": 57,
   "id": "e26df546-9a5a-4efa-9ba8-95b994250ccc",
   "metadata": {},
   "outputs": [],
   "source": [
    "# Объединяем два датафрейма функцией merge по столбцу 'Unnamed: 0'. Используем метод Inner.\n",
    "df_merge = df_bp.merge(df_nup, on = 'Unnamed: 0', how = 'inner')\n",
    "# Удаляем столбец с нумерацией, который дублирует информацию\n",
    "df = df_merge.drop(columns = ['Unnamed: 0'], axis = 1)\n",
    "#Поменяем тип данных для Угла нашивки\n",
    "df['Угол нашивки, град'] = df['Угол нашивки, град'].astype('float64')"
   ]
  },
  {
   "cell_type": "code",
   "execution_count": 58,
   "id": "75f1e81e-b14e-4232-bb5d-1cc62860d5e7",
   "metadata": {},
   "outputs": [],
   "source": [
    "#Переименуем колонки\n",
    "df.rename(columns = {'Соотношение матрица-наполнитель':'matrix_filler', \n",
    "                     'Плотность, кг/м3':'density', 'модуль упругости, ГПа':'elastic_modulus',\n",
    "                     'Количество отвердителя, м.%':'hardener', 'Содержание эпоксидных групп,%_2':'epoxies', \n",
    "                     'Температура вспышки, С_2':'temp', 'Поверхностная плотность, г/м2':'surface_density', \n",
    "                     'Модуль упругости при растяжении, ГПа':'tensile_modulus',\n",
    "                     'Прочность при растяжении, МПа':'tensile_strength', 'Потребление смолы, г/м2':'resin_consumption', \n",
    "                     'Угол нашивки, град':'patch_angle', 'Шаг нашивки':'patch_step', 'Плотность нашивки':'patch_density'},\n",
    "          inplace = True )"
   ]
  },
  {
   "cell_type": "code",
   "execution_count": 59,
   "id": "b35c342b-8c5e-4019-8282-390cb6004e28",
   "metadata": {},
   "outputs": [],
   "source": [
    "df.columns\n",
    "for i in df.columns:\n",
    "    perc25=np.quantile(df[i],0.25)\n",
    "    perc75=np.quantile(df[i],0.75)\n",
    "    IQR=perc75-perc25\n",
    "    df.loc[((perc75+1.5*IQR<df[i])|(perc25-1.5*IQR>df[i])),i]=np.median(df[i])\n",
    "describe = df.describe().T\n",
    "describe['median'] = df.median()"
   ]
  },
  {
   "cell_type": "code",
   "execution_count": 60,
   "id": "c2d8cd25-9f6d-48df-875c-5e8745d10715",
   "metadata": {},
   "outputs": [
    {
     "data": {
      "text/plain": [
       "((1023, 12), (1023,))"
      ]
     },
     "execution_count": 60,
     "metadata": {},
     "output_type": "execute_result"
    }
   ],
   "source": [
    "X = df.copy()\n",
    "y = X.pop('tensile_strength')\n",
    "X.shape, y.shape"
   ]
  },
  {
   "cell_type": "code",
   "execution_count": 61,
   "id": "15c1bdf0-63d6-4a8e-b1d4-d6df88feba35",
   "metadata": {},
   "outputs": [
    {
     "name": "stdout",
     "output_type": "stream",
     "text": [
      "X_train: (716, 12) y_train: (716,)\n",
      "X_test: (307, 12) y_test: (307,)\n"
     ]
    }
   ],
   "source": [
    "X_train, X_test, y_train, y_test = train_test_split(X, y, \n",
    "                                                    test_size=0.3, \n",
    "                                                    random_state=42)\n",
    "print('X_train:', X_train.shape, 'y_train:', y_train.shape)\n",
    "print('X_test:', X_test.shape, 'y_test:', y_test.shape)"
   ]
  },
  {
   "cell_type": "code",
   "execution_count": 62,
   "id": "bd9b8ef3-0479-4e34-b65e-18923ab470b9",
   "metadata": {
    "tags": []
   },
   "outputs": [
    {
     "data": {
      "text/plain": [
       "array([2528.35965871, 2430.2743564 , 2486.8268607 , 2508.08694224,\n",
       "       2506.98258619])"
      ]
     },
     "execution_count": 62,
     "metadata": {},
     "output_type": "execute_result"
    }
   ],
   "source": [
    "# Модель линейной регрессии для выборки с целевой переменной 'Прочность при растяжении, ГПа'\n",
    "model_LinearRegression = LinearRegression()\n",
    "model_LinearRegression.fit(X_train, y_train)\n",
    "preds1 = model_LinearRegression.predict(X_test)\n",
    "preds1[:5]"
   ]
  },
  {
   "cell_type": "code",
   "execution_count": 63,
   "id": "c46a76fa-b410-4d05-827c-b6303efc7be5",
   "metadata": {},
   "outputs": [],
   "source": [
    "pickle.dump(model_LinearRegression, open('LR_final.pkl', 'wb'))"
   ]
  },
  {
   "cell_type": "code",
   "execution_count": 64,
   "id": "e018d34a-45ee-4723-b6a7-f92a772cb178",
   "metadata": {
    "tags": []
   },
   "outputs": [],
   "source": [
    "model_load = pickle.load(open('LR_final.pkl', 'rb'))"
   ]
  },
  {
   "cell_type": "code",
   "execution_count": 65,
   "id": "3ffd4119-e82b-4b14-bfd4-57c9bc4b0028",
   "metadata": {},
   "outputs": [
    {
     "data": {
      "text/plain": [
       "array([2528.35965871, 2430.2743564 , 2486.8268607 , 2508.08694224,\n",
       "       2506.98258619])"
      ]
     },
     "execution_count": 65,
     "metadata": {},
     "output_type": "execute_result"
    }
   ],
   "source": [
    "preds2 = model_load.predict(X_test)\n",
    "preds2[:5]"
   ]
  },
  {
   "cell_type": "code",
   "execution_count": null,
   "id": "bdca8904-081b-43b9-b384-78cd9507d78f",
   "metadata": {},
   "outputs": [],
   "source": []
  }
 ],
 "metadata": {
  "kernelspec": {
   "display_name": "Python 3 (ipykernel)",
   "language": "python",
   "name": "python3"
  },
  "language_info": {
   "codemirror_mode": {
    "name": "ipython",
    "version": 3
   },
   "file_extension": ".py",
   "mimetype": "text/x-python",
   "name": "python",
   "nbconvert_exporter": "python",
   "pygments_lexer": "ipython3",
   "version": "3.9.16"
  }
 },
 "nbformat": 4,
 "nbformat_minor": 5
}
